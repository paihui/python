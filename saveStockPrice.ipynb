{
 "cells": [
  {
   "cell_type": "code",
   "execution_count": 10,
   "metadata": {
    "collapsed": true
   },
   "outputs": [],
   "source": [
    "import requests\n",
    "import pandas as pd\n",
    "import numpy as np\n",
    "import time\n",
    "import datetime\n",
    "import sqlite3"
   ]
  },
  {
   "cell_type": "code",
   "execution_count": 11,
   "metadata": {
    "collapsed": true
   },
   "outputs": [],
   "source": [
    "def updateprice(datestr,dateupdate,con):\n",
    "\n",
    "    #修改1\n",
    "    datestr = datestr\n",
    "    #修改2\n",
    "    dateupdate = dateupdate\n",
    "\n",
    "    urlDailyPrice = \"http://www.twse.com.tw/exchangeReport/MI_INDEX?response=json&date={}&type=ALLBUT0999\".format(datestr)\n",
    "    html = requests.get(urlDailyPrice)\n",
    "\n",
    "    html.encoding = \"utf-8\"\n",
    "    dataInfo = html.json()\n",
    "\n",
    "    colNames = ['交易日','證券代號','證券名稱','成交股數','成交筆數','成交金額','開盤價','最高價','最低價','收盤價','漲跌'\n",
    "                ,'漲跌價差','最後揭示買價','最後揭示買量','最後揭示賣價','最後揭示賣量','本益比']\n",
    "\n",
    "    if dataInfo['stat'] != \"很抱歉，沒有符合條件的資料!\" :\n",
    "\n",
    "        orglist = dataInfo[\"data5\"]\n",
    "        listVals = orglist[:]\n",
    "\n",
    "        count = 0\n",
    "        for stockInfo in listVals:\n",
    "            stockInfo[2] = int(stockInfo[2].replace(\",\",''))\n",
    "            stockInfo[3] = stockInfo[3].replace(\",\",'')\n",
    "            stockInfo[4] = stockInfo[4].replace(\",\",'')\n",
    "            stockInfo[5] = stockInfo[5].replace(\",\",'')\n",
    "            stockInfo[6] = stockInfo[6].replace(\",\",'')\n",
    "            stockInfo[7] = stockInfo[7].replace(\",\",'')\n",
    "            stockInfo[8] = stockInfo[8].replace(\",\",'')\n",
    "            stockInfo[11] = stockInfo[11].replace(\",\",'')\n",
    "            stockInfo[12] = stockInfo[12].replace(\",\",'')\n",
    "            stockInfo[13] = stockInfo[13].replace(\",\",'')\n",
    "            stockInfo[14] = stockInfo[14].replace(\",\",'')\n",
    "            stockInfo[15] = stockInfo[15].replace(\",\",'')\n",
    "            try:                \n",
    "                stockInfo[5] = float(stockInfo[5])\n",
    "            except ValueError:\n",
    "                pass\n",
    "\n",
    "            try:\n",
    "                stockInfo[6] = float(stockInfo[6])\n",
    "            except ValueError:\n",
    "                pass\n",
    "\n",
    "            try:\n",
    "                stockInfo[7] = float(stockInfo[7])\n",
    "            except ValueError:\n",
    "                pass\n",
    "\n",
    "            try:\n",
    "                stockInfo[8] = float(stockInfo[8])\n",
    "            except ValueError:\n",
    "                pass\n",
    "\n",
    "            upordown = stockInfo[9].find('color:green')\n",
    "            if upordown != -1 :\n",
    "                stockInfo[10] = float(stockInfo[10])*(-1.0)\n",
    "\n",
    "            stockInfo.insert(0,dateupdate)\n",
    "\n",
    "\n",
    "        df = pd.DataFrame.from_records(listVals,columns=colNames)\n",
    "        df = df.drop('漲跌',axis=1)\n",
    "        \n",
    "        try:\n",
    "            df.to_sql('price',con,if_exists='append',index =False)\n",
    "            print('save ok')\n",
    "        except Exception as e:\n",
    "            print(e)\n",
    "            pass       \n",
    "    else:\n",
    "        print('no data!!')"
   ]
  },
  {
   "cell_type": "code",
   "execution_count": 12,
   "metadata": {},
   "outputs": [
    {
     "name": "stdout",
     "output_type": "stream",
     "text": [
      "-----------------\n",
      "search date :  2018-10-01\n",
      "save ok\n",
      "-----------------\n",
      "-----------------\n",
      "search date :  2018-10-02\n",
      "save ok\n",
      "-----------------\n",
      "-----------------\n",
      "search date :  2018-10-03\n",
      "save ok\n",
      "-----------------\n",
      "-----------------\n",
      "search date :  2018-10-04\n",
      "save ok\n",
      "-----------------\n",
      "-----------------\n",
      "search date :  2018-10-05\n",
      "save ok\n",
      "-----------------\n",
      "== ok ==\n",
      "== close ==\n"
     ]
    }
   ],
   "source": [
    "con = sqlite3.connect(\"stock.db\")\n",
    "\n",
    "searchdate = pd.date_range(start='2018-10-01',periods=5)\n",
    "for d in searchdate:\n",
    "    d1 = datetime.datetime.strftime(d,'%Y%m%d')\n",
    "    d2 = datetime.datetime.strftime(d,'%Y-%m-%d')\n",
    "    print('-----------------')\n",
    "    print('search date : ',d2)\n",
    "    updateprice(d1,d2,con)\n",
    "    print('-----------------')\n",
    "    \n",
    "print('== ok ==')\n",
    "con.commit()\n",
    "con.close()\n",
    "print('== close ==')"
   ]
  },
  {
   "cell_type": "code",
   "execution_count": null,
   "metadata": {
    "collapsed": true
   },
   "outputs": [],
   "source": []
  }
 ],
 "metadata": {
  "kernelspec": {
   "display_name": "Python 3",
   "language": "python",
   "name": "python3"
  },
  "language_info": {
   "codemirror_mode": {
    "name": "ipython",
    "version": 3
   },
   "file_extension": ".py",
   "mimetype": "text/x-python",
   "name": "python",
   "nbconvert_exporter": "python",
   "pygments_lexer": "ipython3",
   "version": "3.6.1"
  }
 },
 "nbformat": 4,
 "nbformat_minor": 2
}
