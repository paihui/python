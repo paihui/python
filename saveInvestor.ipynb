{
 "cells": [
  {
   "cell_type": "code",
   "execution_count": 25,
   "metadata": {
    "collapsed": true
   },
   "outputs": [],
   "source": [
    "import requests\n",
    "import pandas as pd\n",
    "import numpy as np\n",
    "import time\n",
    "import sqlite3\n",
    "from datetime import datetime,timedelta,date\n",
    "import time\n",
    "from pandas.tseries.offsets import BDay"
   ]
  },
  {
   "cell_type": "code",
   "execution_count": 26,
   "metadata": {
    "collapsed": true
   },
   "outputs": [],
   "source": [
    "con = sqlite3.connect(\"stock.db\")"
   ]
  },
  {
   "cell_type": "code",
   "execution_count": 27,
   "metadata": {
    "collapsed": true
   },
   "outputs": [],
   "source": [
    "def calBuyDays(buy,pre_day):\n",
    "    new_day = 0\n",
    "    if pre_day >= 0:\n",
    "        if buy > 0:\n",
    "            new_day = pre_day + 1\n",
    "        elif  buy < 0:\n",
    "            new_day = -1\n",
    "        elif buy == 0:\n",
    "             new_day = 0\n",
    "    elif pre_day < 0:      \n",
    "        if buy > 0:\n",
    "            new_day = 1        \n",
    "        elif  buy < 0:\n",
    "            new_day = pre_day - 1\n",
    "        elif buy == 0:\n",
    "            new_day = 0\n",
    "    else:\n",
    "         new_day = None\n",
    "            \n",
    "    #print('new_day',new_day)\n",
    "    return new_day\n",
    "    "
   ]
  },
  {
   "cell_type": "code",
   "execution_count": 28,
   "metadata": {
    "collapsed": true
   },
   "outputs": [],
   "source": [
    "weekmask = [1,1,1,1,1,0,0]\n",
    "holidays = ['2018-04-04','2018-04-05','2018-05-01','2018-06-18','2018-09-24','2018-10-10']\n",
    "dateformat1 = '%Y%m%d'\n",
    "dateformat2 = '%Y-%m-%d'"
   ]
  },
  {
   "cell_type": "code",
   "execution_count": 29,
   "metadata": {},
   "outputs": [
    {
     "name": "stdout",
     "output_type": "stream",
     "text": [
      "== start 2018-10-08 14:40:26.765567\n",
      "d1 20181001\n",
      "d2 2018-10-01\n",
      "pre_datef 2018-09-28\n"
     ]
    },
    {
     "name": "stderr",
     "output_type": "stream",
     "text": [
      "C:\\ProgramData\\Anaconda3\\lib\\site-packages\\ipykernel_launcher.py:29: SettingWithCopyWarning: \n",
      "A value is trying to be set on a copy of a slice from a DataFrame.\n",
      "Try using .loc[row_indexer,col_indexer] = value instead\n",
      "\n",
      "See the caveats in the documentation: http://pandas.pydata.org/pandas-docs/stable/indexing.html#indexing-view-versus-copy\n",
      "C:\\ProgramData\\Anaconda3\\lib\\site-packages\\ipykernel_launcher.py:30: SettingWithCopyWarning: \n",
      "A value is trying to be set on a copy of a slice from a DataFrame.\n",
      "Try using .loc[row_indexer,col_indexer] = value instead\n",
      "\n",
      "See the caveats in the documentation: http://pandas.pydata.org/pandas-docs/stable/indexing.html#indexing-view-versus-copy\n",
      "C:\\ProgramData\\Anaconda3\\lib\\site-packages\\ipykernel_launcher.py:31: SettingWithCopyWarning: \n",
      "A value is trying to be set on a copy of a slice from a DataFrame.\n",
      "Try using .loc[row_indexer,col_indexer] = value instead\n",
      "\n",
      "See the caveats in the documentation: http://pandas.pydata.org/pandas-docs/stable/indexing.html#indexing-view-versus-copy\n",
      "C:\\ProgramData\\Anaconda3\\lib\\site-packages\\ipykernel_launcher.py:32: SettingWithCopyWarning: \n",
      "A value is trying to be set on a copy of a slice from a DataFrame.\n",
      "Try using .loc[row_indexer,col_indexer] = value instead\n",
      "\n",
      "See the caveats in the documentation: http://pandas.pydata.org/pandas-docs/stable/indexing.html#indexing-view-versus-copy\n",
      "C:\\ProgramData\\Anaconda3\\lib\\site-packages\\ipykernel_launcher.py:33: SettingWithCopyWarning: \n",
      "A value is trying to be set on a copy of a slice from a DataFrame.\n",
      "Try using .loc[row_indexer,col_indexer] = value instead\n",
      "\n",
      "See the caveats in the documentation: http://pandas.pydata.org/pandas-docs/stable/indexing.html#indexing-view-versus-copy\n",
      "C:\\ProgramData\\Anaconda3\\lib\\site-packages\\ipykernel_launcher.py:34: SettingWithCopyWarning: \n",
      "A value is trying to be set on a copy of a slice from a DataFrame.\n",
      "Try using .loc[row_indexer,col_indexer] = value instead\n",
      "\n",
      "See the caveats in the documentation: http://pandas.pydata.org/pandas-docs/stable/indexing.html#indexing-view-versus-copy\n",
      "C:\\ProgramData\\Anaconda3\\lib\\site-packages\\ipykernel_launcher.py:35: SettingWithCopyWarning: \n",
      "A value is trying to be set on a copy of a slice from a DataFrame.\n",
      "Try using .loc[row_indexer,col_indexer] = value instead\n",
      "\n",
      "See the caveats in the documentation: http://pandas.pydata.org/pandas-docs/stable/indexing.html#indexing-view-versus-copy\n",
      "C:\\ProgramData\\Anaconda3\\lib\\site-packages\\ipykernel_launcher.py:36: SettingWithCopyWarning: \n",
      "A value is trying to be set on a copy of a slice from a DataFrame.\n",
      "Try using .loc[row_indexer,col_indexer] = value instead\n",
      "\n",
      "See the caveats in the documentation: http://pandas.pydata.org/pandas-docs/stable/indexing.html#indexing-view-versus-copy\n",
      "C:\\ProgramData\\Anaconda3\\lib\\site-packages\\ipykernel_launcher.py:37: SettingWithCopyWarning: \n",
      "A value is trying to be set on a copy of a slice from a DataFrame.\n",
      "Try using .loc[row_indexer,col_indexer] = value instead\n",
      "\n",
      "See the caveats in the documentation: http://pandas.pydata.org/pandas-docs/stable/indexing.html#indexing-view-versus-copy\n",
      "C:\\ProgramData\\Anaconda3\\lib\\site-packages\\ipykernel_launcher.py:38: SettingWithCopyWarning: \n",
      "A value is trying to be set on a copy of a slice from a DataFrame.\n",
      "Try using .loc[row_indexer,col_indexer] = value instead\n",
      "\n",
      "See the caveats in the documentation: http://pandas.pydata.org/pandas-docs/stable/indexing.html#indexing-view-versus-copy\n",
      "C:\\ProgramData\\Anaconda3\\lib\\site-packages\\ipykernel_launcher.py:39: SettingWithCopyWarning: \n",
      "A value is trying to be set on a copy of a slice from a DataFrame.\n",
      "Try using .loc[row_indexer,col_indexer] = value instead\n",
      "\n",
      "See the caveats in the documentation: http://pandas.pydata.org/pandas-docs/stable/indexing.html#indexing-view-versus-copy\n",
      "C:\\ProgramData\\Anaconda3\\lib\\site-packages\\ipykernel_launcher.py:40: SettingWithCopyWarning: \n",
      "A value is trying to be set on a copy of a slice from a DataFrame.\n",
      "Try using .loc[row_indexer,col_indexer] = value instead\n",
      "\n",
      "See the caveats in the documentation: http://pandas.pydata.org/pandas-docs/stable/indexing.html#indexing-view-versus-copy\n",
      "C:\\ProgramData\\Anaconda3\\lib\\site-packages\\ipykernel_launcher.py:41: SettingWithCopyWarning: \n",
      "A value is trying to be set on a copy of a slice from a DataFrame.\n",
      "Try using .loc[row_indexer,col_indexer] = value instead\n",
      "\n",
      "See the caveats in the documentation: http://pandas.pydata.org/pandas-docs/stable/indexing.html#indexing-view-versus-copy\n"
     ]
    },
    {
     "name": "stdout",
     "output_type": "stream",
     "text": [
      "2018-10-01  -- save ok\n",
      "== end 2018-10-08 14:40:34.876030\n",
      "Ok\n",
      "== start 2018-10-08 14:40:34.876030\n",
      "d1 20181002\n",
      "d2 2018-10-02\n",
      "pre_datef 2018-10-01\n",
      "2018-10-02  -- save ok\n",
      "== end 2018-10-08 14:40:43.353515\n",
      "Ok\n",
      "== start 2018-10-08 14:40:43.353515\n",
      "d1 20181003\n",
      "d2 2018-10-03\n",
      "pre_datef 2018-10-02\n",
      "2018-10-03  -- save ok\n",
      "== end 2018-10-08 14:40:52.141018\n",
      "Ok\n",
      "== start 2018-10-08 14:40:52.142018\n",
      "d1 20181004\n",
      "d2 2018-10-04\n",
      "pre_datef 2018-10-03\n",
      "2018-10-04  -- save ok\n",
      "== end 2018-10-08 14:41:00.395490\n",
      "Ok\n",
      "== start 2018-10-08 14:41:00.395490\n",
      "d1 20181005\n",
      "d2 2018-10-05\n",
      "pre_datef 2018-10-04\n",
      "2018-10-05  -- save ok\n",
      "== end 2018-10-08 14:41:08.612960\n",
      "Ok\n"
     ]
    }
   ],
   "source": [
    "searchdate = pd.date_range(start='2018-10-01', periods=5)\n",
    "for d in searchdate:\n",
    "    print('== start',datetime.now())\n",
    "    d1 = datetime.strftime(d,dateformat1)\n",
    "    d2 = datetime.strftime(d,dateformat2)    \n",
    "    pre_date = np.busday_offset(d, -1, roll='forward',weekmask=weekmask,holidays=holidays)\n",
    "    pre_date = pre_date.astype(datetime)\n",
    "    pre_datef = pre_date.strftime(dateformat2)\n",
    "    print('d1',d1)\n",
    "    print('d2',d2)\n",
    "    print('pre_datef',pre_datef)\n",
    "    \n",
    "    urlDailyVol = \"http://www.twse.com.tw/fund/T86?response=json&date={}&selectType=ALLBUT0999\".format(d1)\n",
    "    html = requests.get(urlDailyVol)\n",
    "    html.encoding = \"utf-8\"\n",
    "    dataInfo = html.json()\n",
    "\n",
    "    if dataInfo['stat'] == \"很抱歉，沒有符合條件的資料!\" :\n",
    "        print('--off--')\n",
    "        continue\n",
    "    \n",
    "    select = \"select 交易日,證券代號,證券名稱,外資連N日買超,投信連N日買超,自營商連N日買超 from investor where 交易日 = '{}'\".format(pre_datef)\n",
    "    df_pre = pd.read_sql(select,con)\n",
    "\n",
    "    orglist = dataInfo[\"data\"]\n",
    "    dfall0 = pd.DataFrame.from_records(orglist,columns=dataInfo['fields'])\n",
    "    dfall = dfall0[['證券代號','證券名稱','外陸資買賣超股數(不含外資自營商)','投信買賣超股數','自營商買賣超股數']]\n",
    "    \n",
    "    dfall['外資買賣超張數'] = round(dfall['外陸資買賣超股數(不含外資自營商)'].str.replace(',','').astype('int')/1000)\n",
    "    dfall['投信買賣超張數'] = round(dfall['投信買賣超股數'].str.replace(',','').astype('int')/1000)\n",
    "    dfall['自營商買賣超張數'] = round(dfall['自營商買賣超股數'].str.replace(',','').astype('int')/1000)\n",
    "    dfall['外資買超排行'] = dfall['外資買賣超張數'].rank(ascending=False).astype('int')\n",
    "    dfall['外資賣超排行'] = dfall['外資買賣超張數'].rank(ascending=True).astype('int')\n",
    "    dfall['投信買超排行'] = dfall['投信買賣超張數'].rank(ascending=False).astype('int')\n",
    "    dfall['投信賣超排行'] = dfall['投信買賣超張數'].rank(ascending=True).astype('int')\n",
    "    dfall['自營商買超排行'] = dfall['自營商買賣超張數'].rank(ascending=False).astype('int')\n",
    "    dfall['自營商賣超排行'] = dfall['自營商買賣超張數'].rank(ascending=True).astype('int')\n",
    "    dfall['外資連N日買超'] = ''\n",
    "    dfall['投信連N日買超'] = ''\n",
    "    dfall['自營商連N日買超'] = ''\n",
    "    dfall['上市上櫃'] = 1\n",
    "    dfall.insert(0, '交易日', d2)\n",
    "    \n",
    "    for index,row in dfall.iterrows():\n",
    "        code = row['證券代號']\n",
    "        buy1 = row['外資買賣超張數']\n",
    "        buy2 = row['投信買賣超張數']\n",
    "        buy3 = row['自營商買賣超張數']\n",
    "        #print('--'*20)\n",
    "        #print('code=',code)\n",
    "        #print('buy1=',buy1)\n",
    "        #print('buy2=',buy2)\n",
    "        #print('buy3=',buy3)\n",
    "\n",
    "        x = df_pre.loc[df_pre['證券代號'] == code]\n",
    "        if x.empty:\n",
    "            pre_day1 = 0\n",
    "            pre_day2 = 0\n",
    "            pre_day3 = 0\n",
    "            #continue\n",
    "        else:\n",
    "            pre_day1 = x['外資連N日買超'].iloc[0]\n",
    "            if pre_day1 == \"\":\n",
    "                pre_day1 = 0\n",
    "\n",
    "            pre_day2 = x['投信連N日買超'].iloc[0]\n",
    "            if pre_day2 == \"\":\n",
    "                pre_day2 = 0\n",
    "\n",
    "            pre_day3 = x['自營商連N日買超'].iloc[0]\n",
    "            if pre_day3 == \"\":\n",
    "                pre_day3 = 0\n",
    "            #print('pre_day1',pre_day1)\n",
    "            #print('pre_day2',pre_day2)\n",
    "            #print('pre_day3',pre_day3)\n",
    "\n",
    "        new_day1 = calBuyDays(buy1,pre_day1)\n",
    "        new_day2 = calBuyDays(buy2,pre_day2)\n",
    "        new_day3 = calBuyDays(buy3,pre_day3)\n",
    "        dfall.loc[index,'外資連N日買超'] = new_day1\n",
    "        dfall.loc[index,'投信連N日買超'] = new_day2\n",
    "        dfall.loc[index,'自營商連N日買超'] = new_day3\n",
    "        \n",
    "    dfall = dfall[['交易日','證券代號','證券名稱','外資買賣超張數','外資連N日買超','外資買超排行','外資賣超排行'\n",
    "                   ,'投信買賣超張數','投信連N日買超','投信買超排行','投信賣超排行'\n",
    "                   ,'自營商買賣超張數','自營商連N日買超','自營商買超排行','自營商賣超排行','上市上櫃']]\n",
    "    dfall.to_sql('investor',con,if_exists='append',index =False)\n",
    "    print(d2,' -- save ok')\n",
    "    \n",
    "    print('== end',datetime.now())\n",
    "    print('Ok')"
   ]
  },
  {
   "cell_type": "code",
   "execution_count": 30,
   "metadata": {},
   "outputs": [
    {
     "name": "stdout",
     "output_type": "stream",
     "text": [
      "== commit ok ==\n"
     ]
    }
   ],
   "source": [
    "con.commit()\n",
    "print('== commit ok ==')"
   ]
  },
  {
   "cell_type": "code",
   "execution_count": 31,
   "metadata": {},
   "outputs": [
    {
     "name": "stdout",
     "output_type": "stream",
     "text": [
      "== close ==\n"
     ]
    }
   ],
   "source": [
    "con.close()\n",
    "print('== close ==')"
   ]
  },
  {
   "cell_type": "code",
   "execution_count": 32,
   "metadata": {
    "collapsed": true
   },
   "outputs": [],
   "source": [
    "#df = pd.read_excel(\"c:/pythondata/2018-06-08法人.xlsx\",sheet_name='2018-04-02')\n",
    "#con = sqlite3.connect(\"stock.db\")\n",
    "#df.to_sql('investor',con,if_exists='append',index =False)\n",
    "#print('save ok')"
   ]
  },
  {
   "cell_type": "code",
   "execution_count": null,
   "metadata": {
    "collapsed": true
   },
   "outputs": [],
   "source": []
  }
 ],
 "metadata": {
  "kernelspec": {
   "display_name": "Python 3",
   "language": "python",
   "name": "python3"
  },
  "language_info": {
   "codemirror_mode": {
    "name": "ipython",
    "version": 3
   },
   "file_extension": ".py",
   "mimetype": "text/x-python",
   "name": "python",
   "nbconvert_exporter": "python",
   "pygments_lexer": "ipython3",
   "version": "3.6.1"
  }
 },
 "nbformat": 4,
 "nbformat_minor": 2
}
