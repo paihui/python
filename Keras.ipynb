{
 "cells": [
  {
   "cell_type": "code",
   "execution_count": 1,
   "metadata": {},
   "outputs": [
    {
     "name": "stderr",
     "output_type": "stream",
     "text": [
      "C:\\ProgramData\\Anaconda3\\lib\\site-packages\\h5py\\__init__.py:36: FutureWarning: Conversion of the second argument of issubdtype from `float` to `np.floating` is deprecated. In future, it will be treated as `np.float64 == np.dtype(float).type`.\n",
      "  from ._conv import register_converters as _register_converters\n",
      "Using TensorFlow backend.\n"
     ]
    }
   ],
   "source": [
    "# -*- coding: utf-8 -*-\n",
    "\n",
    "import numpy as np\n",
    "import pandas as pd\n",
    "from keras.utils import np_utils\n",
    "import matplotlib.pyplot as plt\n",
    "# np.random.seed(10)\n",
    "\n",
    "from keras.datasets import mnist"
   ]
  },
  {
   "cell_type": "code",
   "execution_count": 101,
   "metadata": {},
   "outputs": [
    {
     "name": "stdout",
     "output_type": "stream",
     "text": [
      "read ok\n"
     ]
    }
   ],
   "source": [
    "#收集的資料,要訓練模型用\n",
    "df = pd.read_excel(\"c:/pythondata/2330_20180702.xlsx\")\n",
    "#df = pd.read_excel(\"c:/pythondata/stockModel_20180418_0601.xlsx\")\n",
    "#df = df[df['上市上櫃'] == 2]\n",
    "#df = pd.read_excel(\"c:/pythondata/stockModel_20180525.xlsx\",'5')\n",
    "df.fillna(0 ,inplace = True)\n",
    "\n",
    "#要預測的資料\n",
    "'''\n",
    "df_pre = pd.read_excel(\"c:/pythondata/StockMerg_20180418_0601 _多.xlsx\")\n",
    "df_pre = df_pre[df_pre['上市上櫃'] == 1]\n",
    "df_pre.tail()\n",
    "df_pre.fillna(0 ,inplace = True)\n",
    "'''\n",
    "#df_pre = pd.read_excel(\"c:/pythondata/StockMerg_20180514_0518.xlsx\")\n",
    "#df_pre = df.copy()\n",
    "#df_pre = df_pre[(df_pre['date'] == '2018-04-18') | (df_pre['date'] == '2018-04-19') | (df_pre['date'] == '2018-04-20')]\n",
    "\n",
    "print(\"read ok\")"
   ]
  },
  {
   "cell_type": "code",
   "execution_count": 102,
   "metadata": {
    "collapsed": true
   },
   "outputs": [],
   "source": [
    "from sklearn.model_selection import train_test_split"
   ]
  },
  {
   "cell_type": "code",
   "execution_count": 103,
   "metadata": {},
   "outputs": [
    {
     "data": {
      "text/html": [
       "<div>\n",
       "<style scoped>\n",
       "    .dataframe tbody tr th:only-of-type {\n",
       "        vertical-align: middle;\n",
       "    }\n",
       "\n",
       "    .dataframe tbody tr th {\n",
       "        vertical-align: top;\n",
       "    }\n",
       "\n",
       "    .dataframe thead th {\n",
       "        text-align: right;\n",
       "    }\n",
       "</style>\n",
       "<table border=\"1\" class=\"dataframe\">\n",
       "  <thead>\n",
       "    <tr style=\"text-align: right;\">\n",
       "      <th></th>\n",
       "      <th>開盤</th>\n",
       "      <th>最高</th>\n",
       "      <th>最低</th>\n",
       "      <th>收盤</th>\n",
       "      <th>漲跌%</th>\n",
       "      <th>均價20</th>\n",
       "      <th>均價60</th>\n",
       "      <th>均價240</th>\n",
       "      <th>布林上20</th>\n",
       "      <th>布林中20</th>\n",
       "      <th>...</th>\n",
       "      <th>OSC</th>\n",
       "      <th>DIF</th>\n",
       "      <th>MACD</th>\n",
       "      <th>均線乖離均20</th>\n",
       "      <th>威廉指標24</th>\n",
       "      <th>威廉指標72</th>\n",
       "      <th>RSI6</th>\n",
       "      <th>RSI13</th>\n",
       "      <th>外資買賣超</th>\n",
       "      <th>updown</th>\n",
       "    </tr>\n",
       "  </thead>\n",
       "  <tbody>\n",
       "    <tr>\n",
       "      <th>0</th>\n",
       "      <td>59.2</td>\n",
       "      <td>59.2</td>\n",
       "      <td>58.8</td>\n",
       "      <td>59.0</td>\n",
       "      <td>-0.3378</td>\n",
       "      <td>60.32</td>\n",
       "      <td>61.71</td>\n",
       "      <td>65.68</td>\n",
       "      <td>62.69</td>\n",
       "      <td>60.32</td>\n",
       "      <td>...</td>\n",
       "      <td>-0.36</td>\n",
       "      <td>-0.48</td>\n",
       "      <td>-0.30</td>\n",
       "      <td>-1.51</td>\n",
       "      <td>-73.77</td>\n",
       "      <td>-80.49</td>\n",
       "      <td>35.70</td>\n",
       "      <td>42.17</td>\n",
       "      <td>-3031</td>\n",
       "      <td>0</td>\n",
       "    </tr>\n",
       "    <tr>\n",
       "      <th>1</th>\n",
       "      <td>59.2</td>\n",
       "      <td>59.6</td>\n",
       "      <td>59.0</td>\n",
       "      <td>59.0</td>\n",
       "      <td>0.0000</td>\n",
       "      <td>60.29</td>\n",
       "      <td>61.63</td>\n",
       "      <td>65.64</td>\n",
       "      <td>62.71</td>\n",
       "      <td>60.29</td>\n",
       "      <td>...</td>\n",
       "      <td>-0.36</td>\n",
       "      <td>-0.53</td>\n",
       "      <td>-0.35</td>\n",
       "      <td>-1.46</td>\n",
       "      <td>-73.77</td>\n",
       "      <td>-80.49</td>\n",
       "      <td>35.70</td>\n",
       "      <td>42.17</td>\n",
       "      <td>23789</td>\n",
       "      <td>0</td>\n",
       "    </tr>\n",
       "    <tr>\n",
       "      <th>2</th>\n",
       "      <td>59.5</td>\n",
       "      <td>59.8</td>\n",
       "      <td>58.9</td>\n",
       "      <td>59.2</td>\n",
       "      <td>0.3390</td>\n",
       "      <td>60.20</td>\n",
       "      <td>61.57</td>\n",
       "      <td>65.60</td>\n",
       "      <td>62.63</td>\n",
       "      <td>60.20</td>\n",
       "      <td>...</td>\n",
       "      <td>-0.31</td>\n",
       "      <td>-0.54</td>\n",
       "      <td>-0.39</td>\n",
       "      <td>-1.43</td>\n",
       "      <td>-70.49</td>\n",
       "      <td>-78.05</td>\n",
       "      <td>39.93</td>\n",
       "      <td>43.46</td>\n",
       "      <td>3271</td>\n",
       "      <td>0</td>\n",
       "    </tr>\n",
       "    <tr>\n",
       "      <th>3</th>\n",
       "      <td>59.5</td>\n",
       "      <td>59.7</td>\n",
       "      <td>59.1</td>\n",
       "      <td>59.6</td>\n",
       "      <td>0.6757</td>\n",
       "      <td>60.22</td>\n",
       "      <td>61.49</td>\n",
       "      <td>65.57</td>\n",
       "      <td>62.62</td>\n",
       "      <td>60.22</td>\n",
       "      <td>...</td>\n",
       "      <td>-0.21</td>\n",
       "      <td>-0.51</td>\n",
       "      <td>-0.41</td>\n",
       "      <td>-1.37</td>\n",
       "      <td>-63.93</td>\n",
       "      <td>-73.17</td>\n",
       "      <td>48.12</td>\n",
       "      <td>46.08</td>\n",
       "      <td>668</td>\n",
       "      <td>0</td>\n",
       "    </tr>\n",
       "    <tr>\n",
       "      <th>4</th>\n",
       "      <td>59.5</td>\n",
       "      <td>59.7</td>\n",
       "      <td>58.7</td>\n",
       "      <td>59.5</td>\n",
       "      <td>-0.1678</td>\n",
       "      <td>60.27</td>\n",
       "      <td>61.40</td>\n",
       "      <td>65.54</td>\n",
       "      <td>62.57</td>\n",
       "      <td>60.27</td>\n",
       "      <td>...</td>\n",
       "      <td>-0.13</td>\n",
       "      <td>-0.50</td>\n",
       "      <td>-0.43</td>\n",
       "      <td>-1.31</td>\n",
       "      <td>-80.00</td>\n",
       "      <td>-74.39</td>\n",
       "      <td>46.23</td>\n",
       "      <td>45.51</td>\n",
       "      <td>-1794</td>\n",
       "      <td>0</td>\n",
       "    </tr>\n",
       "  </tbody>\n",
       "</table>\n",
       "<p>5 rows × 28 columns</p>\n",
       "</div>"
      ],
      "text/plain": [
       "     開盤    最高    最低    收盤     漲跌%   均價20   均價60   均價240   布林上20   布林中20  \\\n",
       "0  59.2  59.2  58.8  59.0 -0.3378  60.32  61.71   65.68   62.69   60.32   \n",
       "1  59.2  59.6  59.0  59.0  0.0000  60.29  61.63   65.64   62.71   60.29   \n",
       "2  59.5  59.8  58.9  59.2  0.3390  60.20  61.57   65.60   62.63   60.20   \n",
       "3  59.5  59.7  59.1  59.6  0.6757  60.22  61.49   65.57   62.62   60.22   \n",
       "4  59.5  59.7  58.7  59.5 -0.1678  60.27  61.40   65.54   62.57   60.27   \n",
       "\n",
       "    ...     OSC   DIF   MACD   均線乖離均20   威廉指標24   威廉指標72   RSI6   RSI13  \\\n",
       "0   ...   -0.36 -0.48  -0.30     -1.51   -73.77   -80.49  35.70   42.17   \n",
       "1   ...   -0.36 -0.53  -0.35     -1.46   -73.77   -80.49  35.70   42.17   \n",
       "2   ...   -0.31 -0.54  -0.39     -1.43   -70.49   -78.05  39.93   43.46   \n",
       "3   ...   -0.21 -0.51  -0.41     -1.37   -63.93   -73.17  48.12   46.08   \n",
       "4   ...   -0.13 -0.50  -0.43     -1.31   -80.00   -74.39  46.23   45.51   \n",
       "\n",
       "    外資買賣超  updown  \n",
       "0   -3031       0  \n",
       "1   23789       0  \n",
       "2    3271       0  \n",
       "3     668       0  \n",
       "4   -1794       0  \n",
       "\n",
       "[5 rows x 28 columns]"
      ]
     },
     "execution_count": 103,
     "metadata": {},
     "output_type": "execute_result"
    }
   ],
   "source": [
    "df1 = df.copy()\n",
    "df1.head()\n",
    "df1.drop(['日期'],axis=1,inplace=True)\n",
    "#df1.drop(['日期','股票代號','股票名稱_x','選股日','股票名稱_y','產業名稱','上市上櫃','存續年度','細產業名稱','經營項目'\n",
    "#],axis=1,inplace=True)\n",
    "#df1 = df1.iloc[:,:-7]\n",
    "df1.head()\n",
    "#df1 = df1[(df1['賺_5'] == 'N') | (df1['賺_5'] == 'Y')]\n",
    "#len(df1)"
   ]
  },
  {
   "cell_type": "code",
   "execution_count": 115,
   "metadata": {},
   "outputs": [
    {
     "data": {
      "text/html": [
       "<div>\n",
       "<style scoped>\n",
       "    .dataframe tbody tr th:only-of-type {\n",
       "        vertical-align: middle;\n",
       "    }\n",
       "\n",
       "    .dataframe tbody tr th {\n",
       "        vertical-align: top;\n",
       "    }\n",
       "\n",
       "    .dataframe thead th {\n",
       "        text-align: right;\n",
       "    }\n",
       "</style>\n",
       "<table border=\"1\" class=\"dataframe\">\n",
       "  <thead>\n",
       "    <tr style=\"text-align: right;\">\n",
       "      <th></th>\n",
       "      <th>賺_5</th>\n",
       "    </tr>\n",
       "  </thead>\n",
       "  <tbody>\n",
       "    <tr>\n",
       "      <th>0</th>\n",
       "      <td>0</td>\n",
       "    </tr>\n",
       "    <tr>\n",
       "      <th>1</th>\n",
       "      <td>1</td>\n",
       "    </tr>\n",
       "    <tr>\n",
       "      <th>2</th>\n",
       "      <td>1</td>\n",
       "    </tr>\n",
       "    <tr>\n",
       "      <th>3</th>\n",
       "      <td>0</td>\n",
       "    </tr>\n",
       "    <tr>\n",
       "      <th>4</th>\n",
       "      <td>0</td>\n",
       "    </tr>\n",
       "  </tbody>\n",
       "</table>\n",
       "</div>"
      ],
      "text/plain": [
       "   賺_5\n",
       "0    0\n",
       "1    1\n",
       "2    1\n",
       "3    0\n",
       "4    0"
      ]
     },
     "execution_count": 115,
     "metadata": {},
     "output_type": "execute_result"
    }
   ],
   "source": [
    "#df1 = df.copy()\n",
    "\n",
    "'''\n",
    "getColName = ['主力 TOP15連買','外資連N日買超','投信 連買(天)'\n",
    "                , '5日漲幅(%)','20日漲幅(%)','近20日資餘增減','大戶近1週增減％','散戶近1週增減％','成交量'\n",
    "             ,'股價乖離月線幅度(%)','股價乖離季線幅度(%)','股價乖離年線幅度(%)']\n",
    "'''\n",
    "\n",
    "getColName = ['主力 TOP15連買','三大法人連N日買超' ,'外資連N日買超','投信 連買(天)'     \n",
    "              ,'5日漲幅(%)','20日漲幅(%)','近20日資餘增減','大戶近1週增減％','散戶近1週增減％'\n",
    "              ,'主力 TOP15 買超新高(天)','主力 TOP15買家集中天數(％)'\n",
    "              ,'股價乖離月線幅度(%)','股價乖離季線幅度(%)','股價乖離年線幅度(%)']\n",
    "\n",
    "#x_df = df1.loc[:,getColName]\n",
    "x_df = df1.iloc[:,:-7]\n",
    "#X_pre = df_pre.loc[:,getColName]\n",
    "\n",
    "# updown5 updown10 updown20 updown\n",
    "y_df = pd.DataFrame( df1['賺_5'],columns=['賺_5'])\n",
    "y_df[y_df['賺_5'] == 'Y'] = 1\n",
    "y_df[y_df['賺_5'] == 'N'] = 0\n",
    "y_df.head()\n",
    "\n"
   ]
  },
  {
   "cell_type": "code",
   "execution_count": 104,
   "metadata": {},
   "outputs": [
    {
     "data": {
      "text/html": [
       "<div>\n",
       "<style scoped>\n",
       "    .dataframe tbody tr th:only-of-type {\n",
       "        vertical-align: middle;\n",
       "    }\n",
       "\n",
       "    .dataframe tbody tr th {\n",
       "        vertical-align: top;\n",
       "    }\n",
       "\n",
       "    .dataframe thead th {\n",
       "        text-align: right;\n",
       "    }\n",
       "</style>\n",
       "<table border=\"1\" class=\"dataframe\">\n",
       "  <thead>\n",
       "    <tr style=\"text-align: right;\">\n",
       "      <th></th>\n",
       "      <th>開盤</th>\n",
       "      <th>最高</th>\n",
       "      <th>最低</th>\n",
       "      <th>收盤</th>\n",
       "      <th>漲跌%</th>\n",
       "      <th>均價20</th>\n",
       "      <th>均價60</th>\n",
       "      <th>均價240</th>\n",
       "      <th>布林上20</th>\n",
       "      <th>布林中20</th>\n",
       "      <th>...</th>\n",
       "      <th>D9</th>\n",
       "      <th>OSC</th>\n",
       "      <th>DIF</th>\n",
       "      <th>MACD</th>\n",
       "      <th>均線乖離均20</th>\n",
       "      <th>威廉指標24</th>\n",
       "      <th>威廉指標72</th>\n",
       "      <th>RSI6</th>\n",
       "      <th>RSI13</th>\n",
       "      <th>外資買賣超</th>\n",
       "    </tr>\n",
       "  </thead>\n",
       "  <tbody>\n",
       "    <tr>\n",
       "      <th>0</th>\n",
       "      <td>59.2</td>\n",
       "      <td>59.2</td>\n",
       "      <td>58.8</td>\n",
       "      <td>59.0</td>\n",
       "      <td>-0.3378</td>\n",
       "      <td>60.32</td>\n",
       "      <td>61.71</td>\n",
       "      <td>65.68</td>\n",
       "      <td>62.69</td>\n",
       "      <td>60.32</td>\n",
       "      <td>...</td>\n",
       "      <td>28.99</td>\n",
       "      <td>-0.36</td>\n",
       "      <td>-0.48</td>\n",
       "      <td>-0.30</td>\n",
       "      <td>-1.51</td>\n",
       "      <td>-73.77</td>\n",
       "      <td>-80.49</td>\n",
       "      <td>35.70</td>\n",
       "      <td>42.17</td>\n",
       "      <td>-3031</td>\n",
       "    </tr>\n",
       "    <tr>\n",
       "      <th>1</th>\n",
       "      <td>59.2</td>\n",
       "      <td>59.6</td>\n",
       "      <td>59.0</td>\n",
       "      <td>59.0</td>\n",
       "      <td>0.0000</td>\n",
       "      <td>60.29</td>\n",
       "      <td>61.63</td>\n",
       "      <td>65.64</td>\n",
       "      <td>62.71</td>\n",
       "      <td>60.29</td>\n",
       "      <td>...</td>\n",
       "      <td>24.10</td>\n",
       "      <td>-0.36</td>\n",
       "      <td>-0.53</td>\n",
       "      <td>-0.35</td>\n",
       "      <td>-1.46</td>\n",
       "      <td>-73.77</td>\n",
       "      <td>-80.49</td>\n",
       "      <td>35.70</td>\n",
       "      <td>42.17</td>\n",
       "      <td>23789</td>\n",
       "    </tr>\n",
       "    <tr>\n",
       "      <th>2</th>\n",
       "      <td>59.5</td>\n",
       "      <td>59.8</td>\n",
       "      <td>58.9</td>\n",
       "      <td>59.2</td>\n",
       "      <td>0.3390</td>\n",
       "      <td>60.20</td>\n",
       "      <td>61.57</td>\n",
       "      <td>65.60</td>\n",
       "      <td>62.63</td>\n",
       "      <td>60.20</td>\n",
       "      <td>...</td>\n",
       "      <td>21.06</td>\n",
       "      <td>-0.31</td>\n",
       "      <td>-0.54</td>\n",
       "      <td>-0.39</td>\n",
       "      <td>-1.43</td>\n",
       "      <td>-70.49</td>\n",
       "      <td>-78.05</td>\n",
       "      <td>39.93</td>\n",
       "      <td>43.46</td>\n",
       "      <td>3271</td>\n",
       "    </tr>\n",
       "    <tr>\n",
       "      <th>3</th>\n",
       "      <td>59.5</td>\n",
       "      <td>59.7</td>\n",
       "      <td>59.1</td>\n",
       "      <td>59.6</td>\n",
       "      <td>0.6757</td>\n",
       "      <td>60.22</td>\n",
       "      <td>61.49</td>\n",
       "      <td>65.57</td>\n",
       "      <td>62.62</td>\n",
       "      <td>60.22</td>\n",
       "      <td>...</td>\n",
       "      <td>21.07</td>\n",
       "      <td>-0.21</td>\n",
       "      <td>-0.51</td>\n",
       "      <td>-0.41</td>\n",
       "      <td>-1.37</td>\n",
       "      <td>-63.93</td>\n",
       "      <td>-73.17</td>\n",
       "      <td>48.12</td>\n",
       "      <td>46.08</td>\n",
       "      <td>668</td>\n",
       "    </tr>\n",
       "    <tr>\n",
       "      <th>4</th>\n",
       "      <td>59.5</td>\n",
       "      <td>59.7</td>\n",
       "      <td>58.7</td>\n",
       "      <td>59.5</td>\n",
       "      <td>-0.1678</td>\n",
       "      <td>60.27</td>\n",
       "      <td>61.40</td>\n",
       "      <td>65.54</td>\n",
       "      <td>62.57</td>\n",
       "      <td>60.27</td>\n",
       "      <td>...</td>\n",
       "      <td>23.99</td>\n",
       "      <td>-0.13</td>\n",
       "      <td>-0.50</td>\n",
       "      <td>-0.43</td>\n",
       "      <td>-1.31</td>\n",
       "      <td>-80.00</td>\n",
       "      <td>-74.39</td>\n",
       "      <td>46.23</td>\n",
       "      <td>45.51</td>\n",
       "      <td>-1794</td>\n",
       "    </tr>\n",
       "  </tbody>\n",
       "</table>\n",
       "<p>5 rows × 27 columns</p>\n",
       "</div>"
      ],
      "text/plain": [
       "     開盤    最高    最低    收盤     漲跌%   均價20   均價60   均價240   布林上20   布林中20  \\\n",
       "0  59.2  59.2  58.8  59.0 -0.3378  60.32  61.71   65.68   62.69   60.32   \n",
       "1  59.2  59.6  59.0  59.0  0.0000  60.29  61.63   65.64   62.71   60.29   \n",
       "2  59.5  59.8  58.9  59.2  0.3390  60.20  61.57   65.60   62.63   60.20   \n",
       "3  59.5  59.7  59.1  59.6  0.6757  60.22  61.49   65.57   62.62   60.22   \n",
       "4  59.5  59.7  58.7  59.5 -0.1678  60.27  61.40   65.54   62.57   60.27   \n",
       "\n",
       "    ...       D9   OSC   DIF   MACD   均線乖離均20   威廉指標24   威廉指標72   RSI6  \\\n",
       "0   ...    28.99 -0.36 -0.48  -0.30     -1.51   -73.77   -80.49  35.70   \n",
       "1   ...    24.10 -0.36 -0.53  -0.35     -1.46   -73.77   -80.49  35.70   \n",
       "2   ...    21.06 -0.31 -0.54  -0.39     -1.43   -70.49   -78.05  39.93   \n",
       "3   ...    21.07 -0.21 -0.51  -0.41     -1.37   -63.93   -73.17  48.12   \n",
       "4   ...    23.99 -0.13 -0.50  -0.43     -1.31   -80.00   -74.39  46.23   \n",
       "\n",
       "    RSI13   外資買賣超  \n",
       "0   42.17   -3031  \n",
       "1   42.17   23789  \n",
       "2   43.46    3271  \n",
       "3   46.08     668  \n",
       "4   45.51   -1794  \n",
       "\n",
       "[5 rows x 27 columns]"
      ]
     },
     "execution_count": 104,
     "metadata": {},
     "output_type": "execute_result"
    }
   ],
   "source": [
    "x_df = df1.iloc[:,:-1]\n",
    "x_df.head()\n"
   ]
  },
  {
   "cell_type": "code",
   "execution_count": 105,
   "metadata": {},
   "outputs": [
    {
     "data": {
      "text/html": [
       "<div>\n",
       "<style scoped>\n",
       "    .dataframe tbody tr th:only-of-type {\n",
       "        vertical-align: middle;\n",
       "    }\n",
       "\n",
       "    .dataframe tbody tr th {\n",
       "        vertical-align: top;\n",
       "    }\n",
       "\n",
       "    .dataframe thead th {\n",
       "        text-align: right;\n",
       "    }\n",
       "</style>\n",
       "<table border=\"1\" class=\"dataframe\">\n",
       "  <thead>\n",
       "    <tr style=\"text-align: right;\">\n",
       "      <th></th>\n",
       "      <th>updown</th>\n",
       "    </tr>\n",
       "  </thead>\n",
       "  <tbody>\n",
       "    <tr>\n",
       "      <th>0</th>\n",
       "      <td>0</td>\n",
       "    </tr>\n",
       "    <tr>\n",
       "      <th>1</th>\n",
       "      <td>0</td>\n",
       "    </tr>\n",
       "    <tr>\n",
       "      <th>2</th>\n",
       "      <td>0</td>\n",
       "    </tr>\n",
       "    <tr>\n",
       "      <th>3</th>\n",
       "      <td>0</td>\n",
       "    </tr>\n",
       "    <tr>\n",
       "      <th>4</th>\n",
       "      <td>0</td>\n",
       "    </tr>\n",
       "  </tbody>\n",
       "</table>\n",
       "</div>"
      ],
      "text/plain": [
       "   updown\n",
       "0       0\n",
       "1       0\n",
       "2       0\n",
       "3       0\n",
       "4       0"
      ]
     },
     "execution_count": 105,
     "metadata": {},
     "output_type": "execute_result"
    }
   ],
   "source": [
    "#y_df = pd.DataFrame( df1['updown'],columns=['updown'])\n",
    "y_df = pd.DataFrame()\n",
    "y_df['updown'] = df1['updown']\n",
    "#y_df.drop(['updown'],axis=0,inplace=True)\n",
    "y_df.head()"
   ]
  },
  {
   "cell_type": "code",
   "execution_count": 106,
   "metadata": {},
   "outputs": [
    {
     "name": "stdout",
     "output_type": "stream",
     "text": [
      "<class 'pandas.core.frame.DataFrame'>\n",
      "RangeIndex: 2603 entries, 0 to 2602\n",
      "Data columns (total 1 columns):\n",
      "updown    2603 non-null int64\n",
      "dtypes: int64(1)\n",
      "memory usage: 20.4 KB\n"
     ]
    }
   ],
   "source": [
    "#type(y_df)\n",
    "y_df.info()"
   ]
  },
  {
   "cell_type": "code",
   "execution_count": 86,
   "metadata": {},
   "outputs": [
    {
     "data": {
      "text/plain": [
       "2603"
      ]
     },
     "execution_count": 86,
     "metadata": {},
     "output_type": "execute_result"
    }
   ],
   "source": [
    "len(y_df)"
   ]
  },
  {
   "cell_type": "code",
   "execution_count": 107,
   "metadata": {
    "collapsed": true
   },
   "outputs": [],
   "source": [
    "from sklearn import preprocessing\n",
    "\n",
    "minmax_scale = preprocessing.MinMaxScaler()\n",
    "#x_df.head()\n",
    "x_train_image, x_test_image,  y_train_label, y_test_label = train_test_split(x_df,y_df, random_state=0,train_size=0.8, test_size=0.2)"
   ]
  },
  {
   "cell_type": "code",
   "execution_count": 88,
   "metadata": {},
   "outputs": [
    {
     "data": {
      "text/html": [
       "<div>\n",
       "<style scoped>\n",
       "    .dataframe tbody tr th:only-of-type {\n",
       "        vertical-align: middle;\n",
       "    }\n",
       "\n",
       "    .dataframe tbody tr th {\n",
       "        vertical-align: top;\n",
       "    }\n",
       "\n",
       "    .dataframe thead th {\n",
       "        text-align: right;\n",
       "    }\n",
       "</style>\n",
       "<table border=\"1\" class=\"dataframe\">\n",
       "  <thead>\n",
       "    <tr style=\"text-align: right;\">\n",
       "      <th></th>\n",
       "      <th>updown</th>\n",
       "    </tr>\n",
       "  </thead>\n",
       "  <tbody>\n",
       "    <tr>\n",
       "      <th>2598</th>\n",
       "      <td>0</td>\n",
       "    </tr>\n",
       "    <tr>\n",
       "      <th>2407</th>\n",
       "      <td>0</td>\n",
       "    </tr>\n",
       "    <tr>\n",
       "      <th>2136</th>\n",
       "      <td>0</td>\n",
       "    </tr>\n",
       "    <tr>\n",
       "      <th>2165</th>\n",
       "      <td>1</td>\n",
       "    </tr>\n",
       "    <tr>\n",
       "      <th>1100</th>\n",
       "      <td>0</td>\n",
       "    </tr>\n",
       "  </tbody>\n",
       "</table>\n",
       "</div>"
      ],
      "text/plain": [
       "      updown\n",
       "2598       0\n",
       "2407       0\n",
       "2136       0\n",
       "2165       1\n",
       "1100       0"
      ]
     },
     "execution_count": 88,
     "metadata": {},
     "output_type": "execute_result"
    }
   ],
   "source": [
    "y_test_label.head()"
   ]
  },
  {
   "cell_type": "code",
   "execution_count": 110,
   "metadata": {
    "collapsed": true
   },
   "outputs": [],
   "source": [
    "x_train_image = x_train_image.values\n",
    "x_train_image=minmax_scale.fit_transform(x_train_image)\n",
    "x_test_image = x_test_image.values\n",
    "x_test_image=minmax_scale.fit_transform(x_test_image)\n",
    "y_train_label = y_train_label.values\n",
    "y_test_label = y_test_label.values"
   ]
  },
  {
   "cell_type": "code",
   "execution_count": 111,
   "metadata": {},
   "outputs": [
    {
     "name": "stdout",
     "output_type": "stream",
     "text": [
      "Train data= 2082\n",
      "Test data= 521\n",
      "The Shpae of x_train_image :  (2082, 27)\n",
      "The Shpae of y_train_label :  (2082, 1)\n",
      "The Shpae of x_train_image :  (521, 27)\n",
      "The Shpae of y_train_label :  (521, 1)\n"
     ]
    }
   ],
   "source": [
    "print(\"Train data=\", len(x_train_image))\n",
    "print(\"Test data=\", len(x_test_image))\n",
    "\n",
    "print(\"The Shpae of x_train_image : \", x_train_image.shape)\n",
    "print(\"The Shpae of y_train_label : \", y_train_label.shape)\n",
    "print(\"The Shpae of x_train_image : \", x_test_image.shape)\n",
    "print(\"The Shpae of y_train_label : \", y_test_label.shape)\n"
   ]
  },
  {
   "cell_type": "code",
   "execution_count": 112,
   "metadata": {},
   "outputs": [
    {
     "data": {
      "text/plain": [
       "array([[0.79876161, 0.78988838, 0.7965502 , 0.79034724, 0.56701618,\n",
       "        0.80874214, 0.77017459, 0.7522956 , 0.7699158 , 0.80874214,\n",
       "        0.81440953, 0.77075099, 0.74105754, 0.12738613, 0.12203741,\n",
       "        1.        , 0.82228321, 0.68330547, 0.58874802, 0.71945047,\n",
       "        0.7459087 , 0.76572008, 1.        , 1.        , 0.8003876 ,\n",
       "        0.79475558, 0.55784763],\n",
       "       [0.78107032, 0.77237908, 0.77885891, 0.77069229, 0.40598139,\n",
       "        0.82127821, 0.81648885, 0.78061253, 0.77273729, 0.82127821,\n",
       "        0.83697284, 0.67014014, 0.68390358, 0.13613974, 0.07555125,\n",
       "        0.4444    , 0.56070252, 0.5720086 , 0.50871632, 0.55314534,\n",
       "        0.59173127, 0.62373225, 0.7619    , 0.8333    , 0.46281492,\n",
       "        0.49482033, 0.50736555],\n",
       "       [0.16187528, 0.16042898, 0.16010615, 0.1622625 , 0.64933675,\n",
       "        0.15029093, 0.11949564, 0.06928026, 0.13358021, 0.15029093,\n",
       "        0.1653997 , 0.7768595 , 0.78499222, 0.36907583, 0.43367923,\n",
       "        1.        , 0.70241493, 0.49319322, 0.52614897, 0.56977585,\n",
       "        0.60120586, 0.87525355, 0.8889    , 0.9463    , 0.83660368,\n",
       "        0.83360311, 0.68768081],\n",
       "       [0.85625829, 0.84241628, 0.84077842, 0.82747325, 0.32167351,\n",
       "        0.88939874, 0.92977692, 0.99697586, 0.83626504, 0.88939874,\n",
       "        0.90664794, 0.66043838, 0.67807154, 0.17937863, 0.10951962,\n",
       "        0.3125    , 0.63765093, 0.69620253, 0.60935024, 0.43890094,\n",
       "        0.39965547, 0.55070994, 0.4286    , 0.1667    , 0.40625   ,\n",
       "        0.41032697, 0.5098888 ],\n",
       "       [0.80760725, 0.79645437, 0.7965502 , 0.78597947, 0.45453156,\n",
       "        0.83490231, 0.83341416, 0.80447572, 0.7786448 , 0.83490231,\n",
       "        0.85832567, 0.68666906, 0.69556765, 0.098457  , 0.05409238,\n",
       "        0.4444    , 0.67189901, 0.77310724, 0.53169572, 0.55242227,\n",
       "        0.57708872, 0.62981744, 0.7368    , 0.8214    , 0.49721415,\n",
       "        0.53998058, 0.55418957]])"
      ]
     },
     "execution_count": 112,
     "metadata": {},
     "output_type": "execute_result"
    }
   ],
   "source": [
    "x_train_image[:5]"
   ]
  },
  {
   "cell_type": "code",
   "execution_count": 48,
   "metadata": {
    "collapsed": true
   },
   "outputs": [],
   "source": [
    "# 輸出值的預處理\n",
    "y_TrainOneHot = np_utils.to_categorical(y_train_label)\n",
    "y_TestOneHot = np_utils.to_categorical(y_test_label)"
   ]
  },
  {
   "cell_type": "code",
   "execution_count": 51,
   "metadata": {},
   "outputs": [
    {
     "data": {
      "text/plain": [
       "array([[1., 0.],\n",
       "       [1., 0.],\n",
       "       [1., 0.],\n",
       "       [1., 0.],\n",
       "       [1., 0.]], dtype=float32)"
      ]
     },
     "execution_count": 51,
     "metadata": {},
     "output_type": "execute_result"
    }
   ],
   "source": [
    "type(y_TrainOneHot)\n",
    "y_TrainOneHot[:5]"
   ]
  },
  {
   "cell_type": "code",
   "execution_count": 115,
   "metadata": {
    "collapsed": true
   },
   "outputs": [],
   "source": [
    "# Building Training Network\n",
    "from keras.models import Sequential\n",
    "from keras.layers import Dense\n",
    "from keras.optimizers import SGD, Adam\n",
    "\n",
    "#sigmoid /softmax / kernel_initializer=normal\n",
    "model = Sequential()\n",
    "model.add(Dense(units=100, input_dim=27, kernel_initializer=\"normal\", activation=\"sigmoid\"))\n",
    "model.add(Dense(units=50, kernel_initializer=\"normal\", activation=\"sigmoid\"))\n",
    "model.add(Dense(units=20, kernel_initializer=\"normal\", activation=\"sigmoid\"))\n",
    "#model.add(Dense(units=8, kernel_initializer=\"normal\", activation=\"sigmoid\"))\n",
    "model.add(Dense(units=1, kernel_initializer=\"normal\", activation=\"softmax\"))"
   ]
  },
  {
   "cell_type": "code",
   "execution_count": 93,
   "metadata": {
    "collapsed": true
   },
   "outputs": [],
   "source": [
    "def show_train_history(train_history, train, validation):\n",
    "    plt.plot(train_history.history[train])\n",
    "    plt.plot(train_history.history[validation])\n",
    "    plt.title(\"Train History\")\n",
    "    plt.ylabel(train)\n",
    "    plt.xlabel(\"Epoch\")\n",
    "    plt.legend([\"train\",\"validation\"], loc=\"upper left\")\n",
    "    plt.show()\n",
    "\n"
   ]
  },
  {
   "cell_type": "code",
   "execution_count": 117,
   "metadata": {},
   "outputs": [
    {
     "name": "stdout",
     "output_type": "stream",
     "text": [
      "Train on 1665 samples, validate on 417 samples\n",
      "Epoch 1/10\n",
      " - 1s - loss: 14.5636 - acc: 0.0865 - val_loss: 14.1838 - val_acc: 0.1103\n",
      "Epoch 2/10\n",
      " - 0s - loss: 14.5636 - acc: 0.0865 - val_loss: 14.1838 - val_acc: 0.1103\n",
      "Epoch 3/10\n",
      " - 0s - loss: 14.5636 - acc: 0.0865 - val_loss: 14.1838 - val_acc: 0.1103\n",
      "Epoch 4/10\n",
      " - 0s - loss: 14.5636 - acc: 0.0865 - val_loss: 14.1838 - val_acc: 0.1103\n",
      "Epoch 5/10\n",
      " - 0s - loss: 14.5636 - acc: 0.0865 - val_loss: 14.1838 - val_acc: 0.1103\n",
      "Epoch 6/10\n",
      " - 0s - loss: 14.5636 - acc: 0.0865 - val_loss: 14.1838 - val_acc: 0.1103\n",
      "Epoch 7/10\n",
      " - 0s - loss: 14.5636 - acc: 0.0865 - val_loss: 14.1838 - val_acc: 0.1103\n",
      "Epoch 8/10\n",
      " - 0s - loss: 14.5636 - acc: 0.0865 - val_loss: 14.1838 - val_acc: 0.1103\n",
      "Epoch 9/10\n",
      " - 0s - loss: 14.5636 - acc: 0.0865 - val_loss: 14.1838 - val_acc: 0.1103\n",
      "Epoch 10/10\n",
      " - 0s - loss: 14.5636 - acc: 0.0865 - val_loss: 14.1838 - val_acc: 0.1103\n"
     ]
    },
    {
     "data": {
      "image/png": "[encoded data removed]",
      "text/plain": [
       "<Figure size 432x288 with 1 Axes>"
      ]
     },
     "metadata": {},
     "output_type": "display_data"
    },
    {
     "data": {
      "image/png": "[encoded data removed]",
      "text/plain": [
       "<Figure size 432x288 with 1 Axes>"
      ]
     },
     "metadata": {},
     "output_type": "display_data"
    }
   ],
   "source": [
    "model.compile(loss=\"binary_crossentropy\", optimizer= \"rmsprop\", metrics=[\"accuracy\"])\n",
    "#optimizer = rmsprop  / SGD(lr=0.001) /adam\n",
    "#loss =categorical_crossentropy / mse /binary_crossentropy\n",
    "#Training / SGD(lr=0.001)\n",
    "#train_history=model.fit(x=x_train_image, y=y_TrainOneHot, validation_split=0.2, epochs=20, batch_size=250, verbose=2)\n",
    "#train_history=model.fit(x=x_train_image, y=y_TrainOneHot, validation_split=0.2, epochs=20, batch_size=64, verbose=2)\n",
    "train_history=model.fit(x=x_train_image, y=y_train_label, validation_split=0.2, epochs=10, batch_size=1500, verbose=2)\n",
    "\n",
    "\n",
    "show_train_history(train_history,\"acc\",\"val_acc\")\n",
    "show_train_history(train_history,\"loss\",\"val_loss\")"
   ]
  },
  {
   "cell_type": "code",
   "execution_count": 95,
   "metadata": {},
   "outputs": [
    {
     "name": "stdout",
     "output_type": "stream",
     "text": [
      "521/521 [==============================] - 0s 123us/step\n",
      "\n",
      "Accuracy =  0.08253358925143954\n"
     ]
    }
   ],
   "source": [
    "#評估模型準確度\n",
    "scores = model.evaluate(x_test_image, y_test_label)\n",
    "print()\n",
    "print(\"Accuracy = \", scores[1])\n"
   ]
  },
  {
   "cell_type": "code",
   "execution_count": null,
   "metadata": {
    "collapsed": true
   },
   "outputs": [],
   "source": [
    "\n",
    "#(x_train_image, y_train_label), (x_test_image, y_test_label) = mnist.load_data()\n",
    "\n",
    "\n",
    "# 輸入值的預處理\n",
    "x_Train = x_train_image.reshape(2848, 8).astype(\"float32\")\n",
    "x_Test = x_test_image.reshape(2848, 8).astype(\"float32\")\n",
    "print(\"The Shpae of x_Train : \", x_Train.shape)\n",
    "print(\"The Shpae of x_Test : \", x_Test.shape)\n",
    "\n",
    "# print(\"x_Train[0] : \", x_Train[0])\n",
    "# print(\"x_Test[0] : \", x_Test[0])\n",
    "\n",
    "x_train_normalize = x_Train/1\n",
    "x_test_normalize=x_Test/1\n",
    "\n",
    "# 輸出值的預處理\n",
    "y_TrainOneHot = np_utils.to_categorical(y_train_label)\n",
    "y_TestOneHot = np_utils.to_categorical(y_test_label)\n",
    "# 5 = [0,0,0,0,0,1,0,0,0,0]  (0~9的數字)\n",
    "\n",
    "# Building Training Network\n",
    "from keras.models import Sequential\n",
    "from keras.layers import Dense\n",
    "from keras.optimizers import SGD, Adam\n",
    "\n",
    "model = Sequential()\n",
    "model.add(Dense(units=256, input_dim=784, kernel_initializer=\"normal\", activation=\"sigmoid\"))\n",
    "model.add(Dense(units=256, kernel_initializer=\"normal\", activation=\"sigmoid\"))\n",
    "model.add(Dense(units=10, kernel_initializer=\"normal\", activation=\"softmax\"))\n",
    "\n",
    "# Setting Training Parameters\n",
    "# categorical_crossentropy / adam\n",
    "\n",
    "model.compile(loss=\"mse\", optimizer=SGD(lr=0.001), metrics=[\"accuracy\"])\n",
    "\n",
    "#Training\n",
    "train_history=model.fit(x=x_train_normalize, y=y_TrainOneHot, validation_split=0.2, epochs=20, batch_size=100, verbose=2)\n",
    "\n",
    "def show_train_history(train_history, train, validation):\n",
    "    plt.plot(train_history.history[train])\n",
    "    plt.plot(train_history.history[validation])\n",
    "    plt.title(\"Train History\")\n",
    "    plt.ylabel(train)\n",
    "    plt.xlabel(\"Epoch\")\n",
    "    plt.legend([\"train\",\"validation\"], loc=\"upper left\")\n",
    "    plt.show()\n",
    "\n",
    "show_train_history(train_history,\"acc\",\"val_acc\")\n",
    "show_train_history(train_history,\"loss\",\"val_loss\")\n",
    "\n",
    "#評估模型準確度\n",
    "scores = model.evaluate(x_test_normalize, y_TestOneHot)\n",
    "print()\n",
    "print(\"Accuracy = \", scores[1])\n",
    "\n",
    "#進行預測\n",
    "prediction=model.predict_classes(x_Test)\n",
    "print()\n",
    "print(\"Prediction = \", prediction)\n",
    "print(\"The Shape of Prediction = \", prediction.shape)\n",
    "\n",
    "Crosstab = pd.crosstab(y_test_label, prediction, rownames=[\"label\"], colnames=[\"predict\"])\n",
    "print(Crosstab)\n",
    "df = pd.DataFrame({\"label\":y_test_label, \"predict\":prediction})"
   ]
  }
 ],
 "metadata": {
  "kernelspec": {
   "display_name": "Python 3",
   "language": "python",
   "name": "python3"
  },
  "language_info": {
   "codemirror_mode": {
    "name": "ipython",
    "version": 3
   },
   "file_extension": ".py",
   "mimetype": "text/x-python",
   "name": "python",
   "nbconvert_exporter": "python",
   "pygments_lexer": "ipython3",
   "version": "3.6.1"
  }
 },
 "nbformat": 4,
 "nbformat_minor": 2
}
