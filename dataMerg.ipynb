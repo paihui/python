{
 "cells": [
  {
   "cell_type": "code",
   "execution_count": 1,
   "metadata": {},
   "outputs": [
    {
     "name": "stdout",
     "output_type": "stream",
     "text": [
      "getsheeet\n",
      "into for!!\n",
      "read ok!!\n",
      "read ok!!\n",
      "read ok!!\n",
      "read ok!!\n",
      "read ok!!\n",
      "save ok\n"
     ]
    }
   ],
   "source": [
    "import pandas as pd\n",
    "from datetime import datetime,timedelta,date\n",
    "import time\n",
    "#getsheet = ['2018-05-14','2018-05-15','2018-05-16','2018-05-17','2018-05-18']\n",
    "#getsheet = ['2018-05-21','2018-05-22','2018-05-23','2018-05-24','2018-05-25']\n",
    "\n",
    "print('getsheeet')\n",
    "#getsheet = ['2018-05-04']\n",
    "\n",
    "getsheet = ['2018-06-04','2018-06-05','2018-06-06','2018-06-07','2018-06-08']\n",
    "\n",
    "'''\n",
    "getsheet = ['2018-05-04','2018-05-07','2018-05-08','2018-05-09','2018-05-10','2018-05-11'\n",
    "            ,'2018-05-14','2018-05-15','2018-05-16','2018-05-17','2018-05-18'\n",
    "            ,'2018-05-21','2018-05-22','2018-05-23','2018-05-24','2018-05-25'\n",
    "            ,'2018-05-28','2018-05-29','2018-05-30','2018-05-31','2018-06-01']\n",
    "'''\n",
    "\n",
    "\n",
    "print(\"into for!!\")\n",
    "\n",
    "list_df = []\n",
    "for x in getsheet :\n",
    "\n",
    "    tempdf1 = pd.read_excel(\"c:/pythondata/2018-06-08_多.xlsx\",sheet_name=x)\n",
    "    #tempdf1 = pd.read_excel(\"c:/pythondata/2018-06-01_空.xlsx\",sheet_name=x)\n",
    "    #tempdf1.insert(0,'date',x,True)\n",
    "    tempdf1 = tempdf1[tempdf1['日期'] != '']\n",
    "    list_df.append(tempdf1)\n",
    "    print(\"read ok!!\")\n",
    "    #list_df.append(tempdf1.loc[:,['日期','股票代號','股票名稱','收盤價']])\n",
    "    \n",
    "\n",
    "dfw1 = pd.concat(list_df)\n",
    "writer1= pd.ExcelWriter(\"c:/pythondata/StockMerg_20180604_0608.xlsx\")\n",
    "#writer1= pd.ExcelWriter(\"c:/pythondata/StockMerg_20180504_0601_空.xlsx\")\n",
    "\n",
    "dfw1.to_excel(writer1,'Sheet1',index = False)\n",
    "writer1.save()\n",
    "print('save ok')"
   ]
  },
  {
   "cell_type": "code",
   "execution_count": null,
   "metadata": {
    "collapsed": true
   },
   "outputs": [],
   "source": []
  }
 ],
 "metadata": {
  "kernelspec": {
   "display_name": "Python 3",
   "language": "python",
   "name": "python3"
  },
  "language_info": {
   "codemirror_mode": {
    "name": "ipython",
    "version": 3
   },
   "file_extension": ".py",
   "mimetype": "text/x-python",
   "name": "python",
   "nbconvert_exporter": "python",
   "pygments_lexer": "ipython3",
   "version": "3.6.1"
  }
 },
 "nbformat": 4,
 "nbformat_minor": 2
}
